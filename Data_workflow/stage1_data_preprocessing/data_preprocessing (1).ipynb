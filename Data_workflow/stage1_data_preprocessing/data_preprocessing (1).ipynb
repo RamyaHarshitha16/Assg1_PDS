{
  "cells": [
    {
      "cell_type": "code",
      "source": [
        "from google.colab import drive\n",
        "drive.mount('/content/drive')"
      ],
      "metadata": {
        "colab": {
          "base_uri": "https://localhost:8080/"
        },
        "id": "ttmumZE3-zzO",
        "outputId": "6ba824e9-327e-4cd3-afda-4127248e696c"
      },
      "id": "ttmumZE3-zzO",
      "execution_count": 3,
      "outputs": [
        {
          "output_type": "stream",
          "name": "stdout",
          "text": [
            "Drive already mounted at /content/drive; to attempt to forcibly remount, call drive.mount(\"/content/drive\", force_remount=True).\n"
          ]
        }
      ]
    },
    {
      "cell_type": "code",
      "execution_count": 4,
      "id": "f8f04533",
      "metadata": {
        "id": "f8f04533"
      },
      "outputs": [],
      "source": [
        "# data_preprocessing.ipynb\n",
        "\n",
        "import pandas as pd\n",
        "\n",
        "# Load the raw data\n",
        "raw_data = pd.read_csv(\"/content/raw_data.csv\")\n",
        "\n",
        "# Data cleaning and preprocessing\n",
        "# For example, remove duplicates\n",
        "cleaned_data = raw_data.drop_duplicates()\n",
        "\n",
        "# Convert grip strength from pounds to kilograms\n",
        "cleaned_data['Grip strength (kg)'] = cleaned_data['Grip strength'] * 0.453592\n",
        "\n",
        "# Save the cleaned data\n",
        "cleaned_data.to_csv(\"/content/cleaned_data.csv\", index=False)\n",
        "\n"
      ]
    }
  ],
  "metadata": {
    "kernelspec": {
      "display_name": "Python 3 (ipykernel)",
      "language": "python",
      "name": "python3"
    },
    "language_info": {
      "codemirror_mode": {
        "name": "ipython",
        "version": 3
      },
      "file_extension": ".py",
      "mimetype": "text/x-python",
      "name": "python",
      "nbconvert_exporter": "python",
      "pygments_lexer": "ipython3",
      "version": "3.11.4"
    },
    "colab": {
      "provenance": []
    }
  },
  "nbformat": 4,
  "nbformat_minor": 5
}