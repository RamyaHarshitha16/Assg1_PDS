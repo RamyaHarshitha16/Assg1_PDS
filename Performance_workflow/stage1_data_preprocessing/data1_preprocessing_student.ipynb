{
  "cells": [
    {
      "cell_type": "code",
      "execution_count": 2,
      "id": "f1304e8f",
      "metadata": {
        "id": "f1304e8f"
      },
      "outputs": [],
      "source": [
        "# data_preprocessing.ipynb\n",
        "\n",
        "import pandas as pd\n",
        "\n",
        "# Load the raw data\n",
        "raw_data = pd.read_csv(\"/content/raw_student_data.csv\")\n",
        "\n",
        "# Data cleaning and preprocessing\n",
        "cleaned_data = raw_data.drop_duplicates()\n",
        "# Calculate average score of each student\n",
        "cleaned_data['average score'] = (cleaned_data['math score']+cleaned_data['reading score']+cleaned_data['writing score'])//3\n",
        "cleaned_data.to_csv(\"/content/cleaned_data.csv\", index=False)\n",
        "\n"
      ]
    }
  ],
  "metadata": {
    "kernelspec": {
      "display_name": "Python 3 (ipykernel)",
      "language": "python",
      "name": "python3"
    },
    "language_info": {
      "codemirror_mode": {
        "name": "ipython",
        "version": 3
      },
      "file_extension": ".py",
      "mimetype": "text/x-python",
      "name": "python",
      "nbconvert_exporter": "python",
      "pygments_lexer": "ipython3",
      "version": "3.11.4"
    },
    "colab": {
      "provenance": []
    }
  },
  "nbformat": 4,
  "nbformat_minor": 5
}